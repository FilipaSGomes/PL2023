{
  "cells": [
    {
      "cell_type": "markdown",
      "metadata": {
        "id": "6nFoODdAH7Ha"
      },
      "source": [
        "# TPC2: Somador on/off\n",
        "\n",
        "Crie um programa em Python que tenha o seguinte comportamento:\n",
        "\n",
        "  * Pretende-se um programa que some todas as sequências de dígitos que encontre num texto;\n",
        "  * Prepare o programa para ler o texto do canal de entrada: stdin;\n",
        "  * Sempre que encontrar a string “Off” em qualquer combinação de maiúsculas e minúsculas, esse comportamento é desligado;\n",
        "  * Sempre que encontrar a string “On” em qualquer combinação de maiúsculas e minúsculas, esse comportamento é novamente ligado;\n",
        "  * Sempre que encontrar o caráter “=”, o resultado da soma é colocado na saída.\n"
      ]
    },
    {
      "cell_type": "code",
      "execution_count": null,
      "metadata": {},
      "outputs": [],
      "source": [
        "r = 0\n",
        "flag = 0\n",
        "\n",
        "def start():\n",
        "    while(True):\n",
        "        words = input(\"Enter your text: \\n\")\n",
        "        if words == '':\n",
        "            break\n",
        "        else:\n",
        "            words = words.replace('\\n', ' ').split(' ')\n",
        "            comands(words)\n",
        "       \n",
        "     \n",
        "def comands(words):\n",
        "    global r\n",
        "    global flag\n",
        "    for word in words:\n",
        "        if (word.lower() == 'off') :\n",
        "            flag = -1\n",
        "        if word.isdigit():\n",
        "            if flag == 0:\n",
        "                r += int(word)\n",
        "        if (word.lower() == 'on'):\n",
        "            flag = 0\n",
        "        if word == '=':\n",
        "            print(r)\n",
        "        \n",
        "      \n",
        "\n",
        "def main():\n",
        "    start()\n",
        "    \n",
        "\n",
        "if __name__ == \"__main__\":\n",
        "    main()"
      ]
    }
  ],
  "metadata": {
    "colab": {
      "provenance": []
    },
    "kernelspec": {
      "display_name": "Python 3",
      "language": "python",
      "name": "python3"
    },
    "language_info": {
      "codemirror_mode": {
        "name": "ipython",
        "version": 3
      },
      "file_extension": ".py",
      "mimetype": "text/x-python",
      "name": "python",
      "nbconvert_exporter": "python",
      "pygments_lexer": "ipython3",
      "version": "3.10.8 (main, Nov  1 2022, 14:18:21) [GCC 12.2.0]"
    },
    "vscode": {
      "interpreter": {
        "hash": "e7370f93d1d0cde622a1f8e1c04877d8463912d04d973331ad4851f04de6915a"
      }
    }
  },
  "nbformat": 4,
  "nbformat_minor": 0
}
